{
  "nbformat": 4,
  "nbformat_minor": 0,
  "metadata": {
    "colab": {
      "provenance": [],
      "gpuType": "T4"
    },
    "kernelspec": {
      "name": "python3",
      "display_name": "Python 3"
    },
    "language_info": {
      "name": "python"
    },
    "accelerator": "GPU"
  },
  "cells": [
    {
      "cell_type": "markdown",
      "source": [
        "# CHECK COMPUTER AVAILABILITY"
      ],
      "metadata": {
        "id": "tkWBZQgOZCiq"
      }
    },
    {
      "cell_type": "code",
      "source": [
        "# Check GPU\n",
        "!nvidia-smi\n",
        "\n",
        "# Check CPU and RAM\n",
        "!lscpu\n",
        "!free -h\n",
        "\n",
        "# Check disk space\n",
        "!df -h\n",
        "\n",
        "# Check details with psutil\n",
        "import psutil\n",
        "\n",
        "# CPU information\n",
        "print(\"CPU:\", psutil.cpu_percent(), \"%\")\n",
        "print(\"Physical cores:\", psutil.cpu_count(logical=False))\n",
        "print(\"Logical cores:\", psutil.cpu_count(logical=True))\n",
        "\n",
        "# RAM information\n",
        "mem = psutil.virtual_memory()\n",
        "print(\"Total RAM:\", mem.total / (1024 ** 3), \"GB\")\n",
        "print(\"Available RAM:\", mem.available / (1024 ** 3), \"GB\")\n",
        "\n",
        "# Disk information\n",
        "disk = psutil.disk_usage('/')\n",
        "print(\"Total disk space:\", disk.total / (1024 ** 3), \"GB\")\n",
        "print(\"Used disk space:\", disk.used / (1024 ** 3), \"GB\")\n",
        "print(\"Free disk space:\", disk.free / (1024 ** 3), \"GB\")"
      ],
      "metadata": {
        "collapsed": true,
        "id": "sVrO-NVId_lH"
      },
      "execution_count": null,
      "outputs": []
    },
    {
      "cell_type": "markdown",
      "source": [
        "# DOWNLOAD GITHUB REPOSITORY"
      ],
      "metadata": {
        "id": "JcGNxeTeEeSH"
      }
    },
    {
      "cell_type": "code",
      "source": [
        "!git clone https://github.com/Andri-L/DroneVision-Analytics.git"
      ],
      "metadata": {
        "id": "doahKLCNEiYc"
      },
      "execution_count": null,
      "outputs": []
    },
    {
      "cell_type": "markdown",
      "source": [
        "# DOWNLOAD REQUERIMENTS\n",
        "\n"
      ],
      "metadata": {
        "id": "iLlHNHDPaMQX"
      }
    },
    {
      "cell_type": "code",
      "source": [
        "# prompt: install python requirements\n",
        "\n",
        "!pip install -r \"/content/DroneVision-Analytics/requirements.txt\""
      ],
      "metadata": {
        "collapsed": true,
        "id": "tsXhFJirhIgY"
      },
      "execution_count": null,
      "outputs": []
    },
    {
      "cell_type": "markdown",
      "source": [
        "# EXECUTING CODE"
      ],
      "metadata": {
        "id": "yDbwD8ibaqu-"
      }
    },
    {
      "cell_type": "code",
      "source": [
        "!python \"/content/DroneVision-Analytics/main.py\""
      ],
      "metadata": {
        "id": "wZONFjigjNA4",
        "collapsed": true
      },
      "execution_count": null,
      "outputs": []
    }
  ]
}